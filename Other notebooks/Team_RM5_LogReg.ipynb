{
  "nbformat": 4,
  "nbformat_minor": 0,
  "metadata": {
    "kernelspec": {
      "display_name": "Python 3",
      "language": "python",
      "name": "python3"
    },
    "language_info": {
      "codemirror_mode": {
        "name": "ipython",
        "version": 3
      },
      "file_extension": ".py",
      "mimetype": "text/x-python",
      "name": "python",
      "nbconvert_exporter": "python",
      "pygments_lexer": "ipython3",
      "version": "3.7.4"
    },
    "colab": {
      "name": "Team_RM5_LogReg.ipynb",
      "provenance": [],
      "include_colab_link": true
    }
  },
  "cells": [
    {
      "cell_type": "markdown",
      "metadata": {
        "id": "view-in-github",
        "colab_type": "text"
      },
      "source": [
        "<a href=\"https://colab.research.google.com/github/Lizette95/Team_RM5_ClassificationPredict_Notebook/blob/master/Team_RM5_LogReg.ipynb\" target=\"_parent\"><img src=\"https://colab.research.google.com/assets/colab-badge.svg\" alt=\"Open In Colab\"/></a>"
      ]
    },
    {
      "cell_type": "code",
      "metadata": {
        "id": "mDfaO930boCt",
        "colab_type": "code",
        "colab": {}
      },
      "source": [
        "# Ignore warnings\n",
        "import warnings\n",
        "warnings.simplefilter(action='ignore')\n",
        "\n",
        "# Prerequisites\n",
        "#import sys\n",
        "#!{sys.executable} -m pip install wordcloud comet_ml scikit-learn\n",
        "\n",
        "# Load Dependencies\n",
        "import re\n",
        "import numpy as np\n",
        "import pandas as pd\n",
        "import seaborn as sns\n",
        "import matplotlib.pyplot as plt\n",
        "\n",
        "from collections import Counter\n",
        "from wordcloud import WordCloud\n",
        "from gensim.models import Phrases\n",
        "from nltk.corpus import stopwords\n",
        "from sklearn.utils import resample\n",
        "from nltk.tokenize import word_tokenize\n",
        "from nltk.stem import WordNetLemmatizer\n",
        "from sklearn.linear_model import LogisticRegression\n",
        "from sklearn.model_selection import train_test_split\n",
        "from sklearn.feature_extraction.text import CountVectorizer\n",
        "\n",
        "# Display\n",
        "%matplotlib inline\n",
        "sns.set(font_scale=1)\n",
        "sns.set_style(\"white\")"
      ],
      "execution_count": null,
      "outputs": []
    },
    {
      "cell_type": "code",
      "metadata": {
        "id": "BXkPnLv_boCz",
        "colab_type": "code",
        "colab": {}
      },
      "source": [
        "train = pd.read_csv('train.csv')\n",
        "test = pd.read_csv('test.csv')"
      ],
      "execution_count": null,
      "outputs": []
    },
    {
      "cell_type": "code",
      "metadata": {
        "id": "oLMx2j3JboC3",
        "colab_type": "code",
        "colab": {}
      },
      "source": [
        "train1 = train.copy()\n",
        "test1 = test.copy()"
      ],
      "execution_count": null,
      "outputs": []
    },
    {
      "cell_type": "code",
      "metadata": {
        "id": "CMzcc0DgboC7",
        "colab_type": "code",
        "colab": {},
        "outputId": "a19c8171-6063-4b95-a64d-460a57d8386b"
      },
      "source": [
        "# view the data\n",
        "train.head()"
      ],
      "execution_count": null,
      "outputs": [
        {
          "output_type": "execute_result",
          "data": {
            "text/html": [
              "<div>\n",
              "<style scoped>\n",
              "    .dataframe tbody tr th:only-of-type {\n",
              "        vertical-align: middle;\n",
              "    }\n",
              "\n",
              "    .dataframe tbody tr th {\n",
              "        vertical-align: top;\n",
              "    }\n",
              "\n",
              "    .dataframe thead th {\n",
              "        text-align: right;\n",
              "    }\n",
              "</style>\n",
              "<table border=\"1\" class=\"dataframe\">\n",
              "  <thead>\n",
              "    <tr style=\"text-align: right;\">\n",
              "      <th></th>\n",
              "      <th>sentiment</th>\n",
              "      <th>message</th>\n",
              "      <th>tweetid</th>\n",
              "    </tr>\n",
              "  </thead>\n",
              "  <tbody>\n",
              "    <tr>\n",
              "      <th>0</th>\n",
              "      <td>1</td>\n",
              "      <td>PolySciMajor EPA chief doesn't think carbon di...</td>\n",
              "      <td>625221</td>\n",
              "    </tr>\n",
              "    <tr>\n",
              "      <th>1</th>\n",
              "      <td>1</td>\n",
              "      <td>It's not like we lack evidence of anthropogeni...</td>\n",
              "      <td>126103</td>\n",
              "    </tr>\n",
              "    <tr>\n",
              "      <th>2</th>\n",
              "      <td>2</td>\n",
              "      <td>RT @RawStory: Researchers say we have three ye...</td>\n",
              "      <td>698562</td>\n",
              "    </tr>\n",
              "    <tr>\n",
              "      <th>3</th>\n",
              "      <td>1</td>\n",
              "      <td>#TodayinMaker# WIRED : 2016 was a pivotal year...</td>\n",
              "      <td>573736</td>\n",
              "    </tr>\n",
              "    <tr>\n",
              "      <th>4</th>\n",
              "      <td>1</td>\n",
              "      <td>RT @SoyNovioDeTodas: It's 2016, and a racist, ...</td>\n",
              "      <td>466954</td>\n",
              "    </tr>\n",
              "  </tbody>\n",
              "</table>\n",
              "</div>"
            ],
            "text/plain": [
              "   sentiment                                            message  tweetid\n",
              "0          1  PolySciMajor EPA chief doesn't think carbon di...   625221\n",
              "1          1  It's not like we lack evidence of anthropogeni...   126103\n",
              "2          2  RT @RawStory: Researchers say we have three ye...   698562\n",
              "3          1  #TodayinMaker# WIRED : 2016 was a pivotal year...   573736\n",
              "4          1  RT @SoyNovioDeTodas: It's 2016, and a racist, ...   466954"
            ]
          },
          "metadata": {
            "tags": []
          },
          "execution_count": 4
        }
      ]
    },
    {
      "cell_type": "code",
      "metadata": {
        "id": "jXdxmotgboDA",
        "colab_type": "code",
        "colab": {},
        "outputId": "ee734199-d6bd-4d0f-cb0e-62e2e14801cd"
      },
      "source": [
        "test.head()"
      ],
      "execution_count": null,
      "outputs": [
        {
          "output_type": "execute_result",
          "data": {
            "text/html": [
              "<div>\n",
              "<style scoped>\n",
              "    .dataframe tbody tr th:only-of-type {\n",
              "        vertical-align: middle;\n",
              "    }\n",
              "\n",
              "    .dataframe tbody tr th {\n",
              "        vertical-align: top;\n",
              "    }\n",
              "\n",
              "    .dataframe thead th {\n",
              "        text-align: right;\n",
              "    }\n",
              "</style>\n",
              "<table border=\"1\" class=\"dataframe\">\n",
              "  <thead>\n",
              "    <tr style=\"text-align: right;\">\n",
              "      <th></th>\n",
              "      <th>message</th>\n",
              "      <th>tweetid</th>\n",
              "    </tr>\n",
              "  </thead>\n",
              "  <tbody>\n",
              "    <tr>\n",
              "      <th>0</th>\n",
              "      <td>Europe will now be looking to China to make su...</td>\n",
              "      <td>169760</td>\n",
              "    </tr>\n",
              "    <tr>\n",
              "      <th>1</th>\n",
              "      <td>Combine this with the polling of staffers re c...</td>\n",
              "      <td>35326</td>\n",
              "    </tr>\n",
              "    <tr>\n",
              "      <th>2</th>\n",
              "      <td>The scary, unimpeachable evidence that climate...</td>\n",
              "      <td>224985</td>\n",
              "    </tr>\n",
              "    <tr>\n",
              "      <th>3</th>\n",
              "      <td>@Karoli @morgfair @OsborneInk @dailykos \\nPuti...</td>\n",
              "      <td>476263</td>\n",
              "    </tr>\n",
              "    <tr>\n",
              "      <th>4</th>\n",
              "      <td>RT @FakeWillMoore: 'Female orgasms cause globa...</td>\n",
              "      <td>872928</td>\n",
              "    </tr>\n",
              "  </tbody>\n",
              "</table>\n",
              "</div>"
            ],
            "text/plain": [
              "                                             message  tweetid\n",
              "0  Europe will now be looking to China to make su...   169760\n",
              "1  Combine this with the polling of staffers re c...    35326\n",
              "2  The scary, unimpeachable evidence that climate...   224985\n",
              "3  @Karoli @morgfair @OsborneInk @dailykos \\nPuti...   476263\n",
              "4  RT @FakeWillMoore: 'Female orgasms cause globa...   872928"
            ]
          },
          "metadata": {
            "tags": []
          },
          "execution_count": 5
        }
      ]
    },
    {
      "cell_type": "code",
      "metadata": {
        "id": "dvNTRAxTboDE",
        "colab_type": "code",
        "colab": {},
        "outputId": "5c275108-8941-4a63-b02a-04ed08d011b4"
      },
      "source": [
        "print(train.shape)\n",
        "print(test.shape)"
      ],
      "execution_count": null,
      "outputs": [
        {
          "output_type": "stream",
          "text": [
            "(15819, 3)\n",
            "(10546, 2)\n"
          ],
          "name": "stdout"
        }
      ]
    },
    {
      "cell_type": "code",
      "metadata": {
        "id": "8qXLi7apboDH",
        "colab_type": "code",
        "colab": {},
        "outputId": "74aa8484-8544-4630-a572-fd02f8797165"
      },
      "source": [
        "#null values\n",
        "train.isnull().sum()"
      ],
      "execution_count": null,
      "outputs": [
        {
          "output_type": "execute_result",
          "data": {
            "text/plain": [
              "sentiment    0\n",
              "message      0\n",
              "tweetid      0\n",
              "dtype: int64"
            ]
          },
          "metadata": {
            "tags": []
          },
          "execution_count": 7
        }
      ]
    },
    {
      "cell_type": "code",
      "metadata": {
        "id": "shIu_yM2boDM",
        "colab_type": "code",
        "colab": {},
        "outputId": "1ad790c8-c5fc-432a-d6f9-a04cea9ea68d"
      },
      "source": [
        "test.isnull().sum()"
      ],
      "execution_count": null,
      "outputs": [
        {
          "output_type": "execute_result",
          "data": {
            "text/plain": [
              "message    0\n",
              "tweetid    0\n",
              "dtype: int64"
            ]
          },
          "metadata": {
            "tags": []
          },
          "execution_count": 8
        }
      ]
    },
    {
      "cell_type": "code",
      "metadata": {
        "id": "DeGi1qTIboDP",
        "colab_type": "code",
        "colab": {},
        "outputId": "02318530-ab96-4be1-a175-3a2ab1b7c29b"
      },
      "source": [
        "#check for empty strings\n",
        "blanks = []\n",
        "for i,s,m,ti in train.itertuples():\n",
        "    if m.isspace():\n",
        "        blanks.append(i)\n",
        "len(blanks)"
      ],
      "execution_count": null,
      "outputs": [
        {
          "output_type": "execute_result",
          "data": {
            "text/plain": [
              "0"
            ]
          },
          "metadata": {
            "tags": []
          },
          "execution_count": 9
        }
      ]
    },
    {
      "cell_type": "code",
      "metadata": {
        "id": "CFQqYnpAboDT",
        "colab_type": "code",
        "colab": {},
        "outputId": "4acb2c7b-0941-4159-df40-106ad84fb802"
      },
      "source": [
        "blanks = []\n",
        "for i,m,ti in test.itertuples():\n",
        "    if m.isspace():\n",
        "        blanks.append(i)\n",
        "len(blanks)"
      ],
      "execution_count": null,
      "outputs": [
        {
          "output_type": "execute_result",
          "data": {
            "text/plain": [
              "0"
            ]
          },
          "metadata": {
            "tags": []
          },
          "execution_count": 10
        }
      ]
    },
    {
      "cell_type": "code",
      "metadata": {
        "id": "vtRBdcNuboDX",
        "colab_type": "code",
        "colab": {}
      },
      "source": [
        "#no null values or empty strings"
      ],
      "execution_count": null,
      "outputs": []
    },
    {
      "cell_type": "code",
      "metadata": {
        "id": "yAxK6rOXboDa",
        "colab_type": "code",
        "colab": {},
        "outputId": "46acce5d-b4e7-4cf5-a8e1-f55068b36ef8"
      },
      "source": [
        "#how many tweets were for each sentiment\n",
        "type_sum = train.groupby(['sentiment']).count()\n",
        "type_sum.sort_values('message', ascending=False, inplace=True)\n",
        "type_sum"
      ],
      "execution_count": null,
      "outputs": [
        {
          "output_type": "execute_result",
          "data": {
            "text/html": [
              "<div>\n",
              "<style scoped>\n",
              "    .dataframe tbody tr th:only-of-type {\n",
              "        vertical-align: middle;\n",
              "    }\n",
              "\n",
              "    .dataframe tbody tr th {\n",
              "        vertical-align: top;\n",
              "    }\n",
              "\n",
              "    .dataframe thead th {\n",
              "        text-align: right;\n",
              "    }\n",
              "</style>\n",
              "<table border=\"1\" class=\"dataframe\">\n",
              "  <thead>\n",
              "    <tr style=\"text-align: right;\">\n",
              "      <th></th>\n",
              "      <th>message</th>\n",
              "      <th>tweetid</th>\n",
              "    </tr>\n",
              "    <tr>\n",
              "      <th>sentiment</th>\n",
              "      <th></th>\n",
              "      <th></th>\n",
              "    </tr>\n",
              "  </thead>\n",
              "  <tbody>\n",
              "    <tr>\n",
              "      <th>1</th>\n",
              "      <td>8530</td>\n",
              "      <td>8530</td>\n",
              "    </tr>\n",
              "    <tr>\n",
              "      <th>2</th>\n",
              "      <td>3640</td>\n",
              "      <td>3640</td>\n",
              "    </tr>\n",
              "    <tr>\n",
              "      <th>0</th>\n",
              "      <td>2353</td>\n",
              "      <td>2353</td>\n",
              "    </tr>\n",
              "    <tr>\n",
              "      <th>-1</th>\n",
              "      <td>1296</td>\n",
              "      <td>1296</td>\n",
              "    </tr>\n",
              "  </tbody>\n",
              "</table>\n",
              "</div>"
            ],
            "text/plain": [
              "           message  tweetid\n",
              "sentiment                  \n",
              " 1            8530     8530\n",
              " 2            3640     3640\n",
              " 0            2353     2353\n",
              "-1            1296     1296"
            ]
          },
          "metadata": {
            "tags": []
          },
          "execution_count": 12
        }
      ]
    },
    {
      "cell_type": "code",
      "metadata": {
        "id": "fG3Hl7bQboDd",
        "colab_type": "code",
        "colab": {},
        "outputId": "869064c9-95db-46d8-c1e1-2f2e8f968b9f"
      },
      "source": [
        "# Number of Tweets Per Sentiment Class\n",
        "fig, axis = plt.subplots(ncols=2, figsize=(15, 5))\n",
        "\n",
        "ax = sns.countplot(x='sentiment',data=train,palette='winter',ax=axis[0])\n",
        "axis[0].set_title('Number of Tweets Per Sentiment Class',fontsize=14)\n",
        "axis[0].set_xlabel('Sentiment Class')\n",
        "axis[0].set_ylabel('Tweets')\n",
        "for p in ax.patches:\n",
        "    ax.text(p.get_x() + p.get_width()/2., p.get_height(), '%d' % int(p.get_height()), fontsize=11, ha='center', va='bottom')\n",
        "\n",
        "train['sentiment'].value_counts().plot.pie(autopct='%1.1f%%',colormap='winter_r',ax=axis[1])\n",
        "axis[1].set_title('Proportion of Tweets Per Sentiment Class',fontsize=14)\n",
        "axis[1].set_ylabel('Sentiment Class')\n",
        "    \n",
        "plt.show()"
      ],
      "execution_count": null,
      "outputs": [
        {
          "output_type": "display_data",
          "data": {
            "image/png": "[encoded data removed]",
            "text/plain": [
              "<Figure size 1080x360 with 2 Axes>"
            ]
          },
          "metadata": {
            "tags": [],
            "needs_background": "light"
          }
        }
      ]
    },
    {
      "cell_type": "code",
      "metadata": {
        "id": "ltz8vmEzboDi",
        "colab_type": "code",
        "colab": {}
      },
      "source": [
        "contractions = {\"ain't\": \"am not\", \"aren't\": \"are not\", \"can't\": \"cannot\", \"can't've\": \"cannot have\", \"'cause\": \"because\", \"could've\": \"could have\", \"couldn't\": \"could not\", \"couldn't've\": \"could not have\", \"didn't\": \"did not\", \"doesn't\": \"does not\", \"don't\": \"do not\", \"hadn't\": \"had not\", \"hadn't've\": \"had not have\", \"hasn't\": \"has not\", \"haven't\": \"have not\", \"he'd\": \"he would\", \"he'd've\": \"he would have\", \"he'll\": \"he will\", \"he'll've\": \"he will have\", \"he's\": \"he is\", \"how'd\": \"how did\", \"how'd'y\": \"how do you\", \"how'll\": \"how will\", \"how's\": \"how is\", \"i'd\": \"I would\", \"i'd've\": \"I would have\", \"i'll\": \"I will\", \"i'll've\": \"I will have\", \"i'm\": \"I am\", \"i've\": \"I have\", \"isn't\": \"is not\", \"it'd\": \"it had\", \"it'd've\": \"it would have\", \"it'll\": \"it will\", \"it'll've\": \"it will have\", \"it's\": \"it is\", \"let's\": \"let us\", \"ma'am\": \"madam\", \"mayn't\": \"may not\", \"might've\": \"might have\", \"mightn't\": \"might not\", \"mightn't've\": \"might not have\", \"must've\": \"must have\", \"mustn't\": \"must not\", \"mustn't've\": \"must not have\", \"needn't\": \"need not\", \"needn't've\": \"need not have\", \"o'clock\": \"of the clock\", \"oughtn't\": \"ought not\", \"oughtn't've\": \"ought not have\", \"shan't\": \"shall not\", \"sha'n't\": \"shall not\", \"shan't've\": \"shall not have\", \"she'd\": \"she would\", \"she'd've\": \"she would have\", \"she'll\": \"she will\", \"she'll've\": \"she will have\", \"she's\": \"she is\", \"should've\": \"should have\", \"shouldn't\": \"should not\", \"shouldn't've\": \"should not have\", \"so've\": \"so have\", \"so's\": \"so is\", \"that'd\": \"that would\", \"that'd've\": \"that would have\", \"that's\": \"that is\", \"there'd\": \"there had\", \"there'd've\": \"there would have\", \"there's\": \"there is\", \"they'd\": \"they would\", \"they'd've\": \"they would have\", \"they'll\": \"they will\", \"they'll've\": \"they will have\", \"they're\": \"they are\", \"they've\": \"they have\", \"to've\": \"to have\", \"wasn't\": \"was not\", \"we'd\": \"we had\", \"we'd've\": \"we would have\", \"we'll\": \"we will\", \"we'll've\": \"we will have\", \"we're\": \"we are\", \"we've\": \"we have\", \"weren't\": \"were not\", \"what'll\": \"what will\", \"what'll've\": \"what will have\", \"what're\": \"what are\", \"what's\": \"what is\", \"what've\": \"what have\", \"when's\": \"when is\", \"when've\": \"when have\", \"where'd\": \"where did\", \"where's\": \"where is\", \"where've\": \"where have\", \"who'll\": \"who will\", \"who'll've\": \"who will have\", \"who's\": \"who is\", \"who've\": \"who have\", \"why's\": \"why is\", \"why've\": \"why have\", \"will've\": \"will have\", \"won't\": \"will not\", \"won't've\": \"will not have\", \"would've\": \"would have\", \"wouldn't\": \"would not\", \"wouldn't've\": \"would not have\", \"y'all\": \"you all\", \"y'alls\": \"you alls\", \"y'all'd\": \"you all would\", \"y'all'd've\": \"you all would have\", \"y'all're\": \"you all are\", \"y'all've\": \"you all have\", \"you'd\": \"you had\", \"you'd've\": \"you would have\", \"you'll\": \"you you will\", \"you'll've\": \"you you will have\", \"you're\": \"you are\", \"you've\": \"you have\"}\n",
        "contractions_re = re.compile('(%s)' % '|'.join(contractions.keys()))\n",
        "def expand_contractions(text):\n",
        "    \"\"\"\n",
        "    Expand contractions using dictionary of contractions.\n",
        "    \"\"\"\n",
        "    text = text.lower()\n",
        "    def replace(match):\n",
        "        return contractions[match.group(0)]\n",
        "    return contractions_re.sub(replace, text)\n",
        "\n",
        "train['message'] = train['message'].apply(expand_contractions)\n",
        "test['message'] = test['message'].apply(expand_contractions)"
      ],
      "execution_count": null,
      "outputs": []
    },
    {
      "cell_type": "code",
      "metadata": {
        "id": "XbN96xYeboDm",
        "colab_type": "code",
        "colab": {}
      },
      "source": [
        "http_regex = re.compile(r'http[s]?://(?:[A-Za-z]|[0-9]|[$-_@.&+]|[!*\\(\\),]|(?:%[0-9A-Fa-f][0-9A-Fa-f]))+')\n",
        "url_regex = re.compile(r'[-a-zA-Z0–9@:%._\\+~#=]{2,256}\\.[a-z]{2,6}\\b([-a-zA-Z0–9@:%_\\+.~#?&//=]*)')\n",
        "rt_regex = re.compile('^(RT|rt)( @\\w*)?')\n",
        "def remove_noise(tweet):\n",
        "    \"\"\"\n",
        "    Remove noise from text data, such as newlines, punctuation, URLs and numbers.\n",
        "    \"\"\"\n",
        "    new_tweet = tweet.replace('\\n',' ') #Remove Newlines\n",
        "    new_tweet = new_tweet.replace('\"',' ') #Remove Text Delimeters\n",
        "    new_tweet = new_tweet.replace('&amp',' ') #Remove Ampersands\n",
        "    new_tweet = http_regex.sub('', new_tweet) #Remove http URLs\n",
        "    new_tweet = url_regex.sub('', new_tweet) #Remove other URLs\n",
        "    new_tweet = rt_regex.sub('', new_tweet) #Remove RTs\n",
        "    new_tweet = re.sub(r'#(RT|rt)*', '', new_tweet) #Remove RTs\n",
        "    new_tweet = re.sub(r'@\\w*', '', new_tweet) #Remove Mentions\n",
        "    new_tweet = re.sub('\\w*\\d\\w*','', new_tweet) #Remove Numbers/Words with Numbers\n",
        "    new_tweet = re.sub('[^a-zA-z\\s]', '', new_tweet) #Remove Punctuation\n",
        "    new_tweet = new_tweet.strip() #Remove Excess Whitespace\n",
        "    return new_tweet\n",
        "\n",
        "train['message'] = train['message'].apply(remove_noise)\n",
        "test['message'] = test['message'].apply(remove_noise)"
      ],
      "execution_count": null,
      "outputs": []
    },
    {
      "cell_type": "code",
      "metadata": {
        "scrolled": true,
        "id": "yu06AjYqboDp",
        "colab_type": "code",
        "colab": {},
        "outputId": "bd289d56-713e-480b-a5a8-a9e19ee2ded0"
      },
      "source": [
        "train.head()"
      ],
      "execution_count": null,
      "outputs": [
        {
          "output_type": "execute_result",
          "data": {
            "text/html": [
              "<div>\n",
              "<style scoped>\n",
              "    .dataframe tbody tr th:only-of-type {\n",
              "        vertical-align: middle;\n",
              "    }\n",
              "\n",
              "    .dataframe tbody tr th {\n",
              "        vertical-align: top;\n",
              "    }\n",
              "\n",
              "    .dataframe thead th {\n",
              "        text-align: right;\n",
              "    }\n",
              "</style>\n",
              "<table border=\"1\" class=\"dataframe\">\n",
              "  <thead>\n",
              "    <tr style=\"text-align: right;\">\n",
              "      <th></th>\n",
              "      <th>sentiment</th>\n",
              "      <th>message</th>\n",
              "      <th>tweetid</th>\n",
              "    </tr>\n",
              "  </thead>\n",
              "  <tbody>\n",
              "    <tr>\n",
              "      <th>0</th>\n",
              "      <td>1</td>\n",
              "      <td>polyscimajor epa chief does not think carbon d...</td>\n",
              "      <td>625221</td>\n",
              "    </tr>\n",
              "    <tr>\n",
              "      <th>1</th>\n",
              "      <td>1</td>\n",
              "      <td>it is not like we lack evidence of anthropogen...</td>\n",
              "      <td>126103</td>\n",
              "    </tr>\n",
              "    <tr>\n",
              "      <th>2</th>\n",
              "      <td>2</td>\n",
              "      <td>researchers say we have three years to act on ...</td>\n",
              "      <td>698562</td>\n",
              "    </tr>\n",
              "    <tr>\n",
              "      <th>3</th>\n",
              "      <td>1</td>\n",
              "      <td>todayinmaker wired   was a pivotal year in the...</td>\n",
              "      <td>573736</td>\n",
              "    </tr>\n",
              "    <tr>\n",
              "      <th>4</th>\n",
              "      <td>1</td>\n",
              "      <td>it is  and a racist sexist climate change deny...</td>\n",
              "      <td>466954</td>\n",
              "    </tr>\n",
              "  </tbody>\n",
              "</table>\n",
              "</div>"
            ],
            "text/plain": [
              "   sentiment                                            message  tweetid\n",
              "0          1  polyscimajor epa chief does not think carbon d...   625221\n",
              "1          1  it is not like we lack evidence of anthropogen...   126103\n",
              "2          2  researchers say we have three years to act on ...   698562\n",
              "3          1  todayinmaker wired   was a pivotal year in the...   573736\n",
              "4          1  it is  and a racist sexist climate change deny...   466954"
            ]
          },
          "metadata": {
            "tags": []
          },
          "execution_count": 16
        }
      ]
    },
    {
      "cell_type": "code",
      "metadata": {
        "id": "v95xfVwCboDs",
        "colab_type": "code",
        "colab": {},
        "outputId": "beed3f52-b34b-476a-cdf1-45898fc1d075"
      },
      "source": [
        "train = train.drop('tweetid', axis=1)\n",
        "train['sentiment'] = train.pop('sentiment')\n",
        "train.head()"
      ],
      "execution_count": null,
      "outputs": [
        {
          "output_type": "execute_result",
          "data": {
            "text/html": [
              "<div>\n",
              "<style scoped>\n",
              "    .dataframe tbody tr th:only-of-type {\n",
              "        vertical-align: middle;\n",
              "    }\n",
              "\n",
              "    .dataframe tbody tr th {\n",
              "        vertical-align: top;\n",
              "    }\n",
              "\n",
              "    .dataframe thead th {\n",
              "        text-align: right;\n",
              "    }\n",
              "</style>\n",
              "<table border=\"1\" class=\"dataframe\">\n",
              "  <thead>\n",
              "    <tr style=\"text-align: right;\">\n",
              "      <th></th>\n",
              "      <th>message</th>\n",
              "      <th>sentiment</th>\n",
              "    </tr>\n",
              "  </thead>\n",
              "  <tbody>\n",
              "    <tr>\n",
              "      <th>0</th>\n",
              "      <td>polyscimajor epa chief does not think carbon d...</td>\n",
              "      <td>1</td>\n",
              "    </tr>\n",
              "    <tr>\n",
              "      <th>1</th>\n",
              "      <td>it is not like we lack evidence of anthropogen...</td>\n",
              "      <td>1</td>\n",
              "    </tr>\n",
              "    <tr>\n",
              "      <th>2</th>\n",
              "      <td>researchers say we have three years to act on ...</td>\n",
              "      <td>2</td>\n",
              "    </tr>\n",
              "    <tr>\n",
              "      <th>3</th>\n",
              "      <td>todayinmaker wired   was a pivotal year in the...</td>\n",
              "      <td>1</td>\n",
              "    </tr>\n",
              "    <tr>\n",
              "      <th>4</th>\n",
              "      <td>it is  and a racist sexist climate change deny...</td>\n",
              "      <td>1</td>\n",
              "    </tr>\n",
              "  </tbody>\n",
              "</table>\n",
              "</div>"
            ],
            "text/plain": [
              "                                             message  sentiment\n",
              "0  polyscimajor epa chief does not think carbon d...          1\n",
              "1  it is not like we lack evidence of anthropogen...          1\n",
              "2  researchers say we have three years to act on ...          2\n",
              "3  todayinmaker wired   was a pivotal year in the...          1\n",
              "4  it is  and a racist sexist climate change deny...          1"
            ]
          },
          "metadata": {
            "tags": []
          },
          "execution_count": 17
        }
      ]
    },
    {
      "cell_type": "code",
      "metadata": {
        "id": "hGo-vO70boDx",
        "colab_type": "code",
        "colab": {},
        "outputId": "39867233-f932-4018-b011-8f2d80dc5ae7"
      },
      "source": [
        "tweetid = test['tweetid'] #Save for Output File\n",
        "test = test.drop('tweetid', axis=1)\n",
        "test.head()"
      ],
      "execution_count": null,
      "outputs": [
        {
          "output_type": "execute_result",
          "data": {
            "text/html": [
              "<div>\n",
              "<style scoped>\n",
              "    .dataframe tbody tr th:only-of-type {\n",
              "        vertical-align: middle;\n",
              "    }\n",
              "\n",
              "    .dataframe tbody tr th {\n",
              "        vertical-align: top;\n",
              "    }\n",
              "\n",
              "    .dataframe thead th {\n",
              "        text-align: right;\n",
              "    }\n",
              "</style>\n",
              "<table border=\"1\" class=\"dataframe\">\n",
              "  <thead>\n",
              "    <tr style=\"text-align: right;\">\n",
              "      <th></th>\n",
              "      <th>message</th>\n",
              "    </tr>\n",
              "  </thead>\n",
              "  <tbody>\n",
              "    <tr>\n",
              "      <th>0</th>\n",
              "      <td>europe will now be looking to china to make su...</td>\n",
              "    </tr>\n",
              "    <tr>\n",
              "      <th>1</th>\n",
              "      <td>combine this with the polling of staffers re c...</td>\n",
              "    </tr>\n",
              "    <tr>\n",
              "      <th>2</th>\n",
              "      <td>the scary unimpeachable evidence that climate ...</td>\n",
              "    </tr>\n",
              "    <tr>\n",
              "      <th>3</th>\n",
              "      <td>putin got to you too jill   trump does not bel...</td>\n",
              "    </tr>\n",
              "    <tr>\n",
              "      <th>4</th>\n",
              "      <td>female orgasms cause global warming sarcastic ...</td>\n",
              "    </tr>\n",
              "  </tbody>\n",
              "</table>\n",
              "</div>"
            ],
            "text/plain": [
              "                                             message\n",
              "0  europe will now be looking to china to make su...\n",
              "1  combine this with the polling of staffers re c...\n",
              "2  the scary unimpeachable evidence that climate ...\n",
              "3  putin got to you too jill   trump does not bel...\n",
              "4  female orgasms cause global warming sarcastic ..."
            ]
          },
          "metadata": {
            "tags": []
          },
          "execution_count": 18
        }
      ]
    },
    {
      "cell_type": "code",
      "metadata": {
        "id": "rIYyq40nboD4",
        "colab_type": "code",
        "colab": {}
      },
      "source": [
        "# Lematise posts\n",
        "lemmatizer = WordNetLemmatizer()\n",
        "train['lemma'] = [' '.join([lemmatizer.lemmatize(word) for word in text.split(' ')])for text in train['message']]\n",
        "test['lemma'] = [' '.join([lemmatizer.lemmatize(word) for word in text.split(' ')])for text in test['message']]"
      ],
      "execution_count": null,
      "outputs": []
    },
    {
      "cell_type": "code",
      "metadata": {
        "id": "pd9IU3DYboD7",
        "colab_type": "code",
        "colab": {},
        "outputId": "4d3bfb62-9689-43fc-e41a-2289bf2e1e14"
      },
      "source": [
        "train.head()"
      ],
      "execution_count": null,
      "outputs": [
        {
          "output_type": "execute_result",
          "data": {
            "text/html": [
              "<div>\n",
              "<style scoped>\n",
              "    .dataframe tbody tr th:only-of-type {\n",
              "        vertical-align: middle;\n",
              "    }\n",
              "\n",
              "    .dataframe tbody tr th {\n",
              "        vertical-align: top;\n",
              "    }\n",
              "\n",
              "    .dataframe thead th {\n",
              "        text-align: right;\n",
              "    }\n",
              "</style>\n",
              "<table border=\"1\" class=\"dataframe\">\n",
              "  <thead>\n",
              "    <tr style=\"text-align: right;\">\n",
              "      <th></th>\n",
              "      <th>message</th>\n",
              "      <th>sentiment</th>\n",
              "      <th>lemma</th>\n",
              "    </tr>\n",
              "  </thead>\n",
              "  <tbody>\n",
              "    <tr>\n",
              "      <th>0</th>\n",
              "      <td>polyscimajor epa chief does not think carbon d...</td>\n",
              "      <td>1</td>\n",
              "      <td>polyscimajor epa chief doe not think carbon di...</td>\n",
              "    </tr>\n",
              "    <tr>\n",
              "      <th>1</th>\n",
              "      <td>it is not like we lack evidence of anthropogen...</td>\n",
              "      <td>1</td>\n",
              "      <td>it is not like we lack evidence of anthropogen...</td>\n",
              "    </tr>\n",
              "    <tr>\n",
              "      <th>2</th>\n",
              "      <td>researchers say we have three years to act on ...</td>\n",
              "      <td>2</td>\n",
              "      <td>researcher say we have three year to act on cl...</td>\n",
              "    </tr>\n",
              "    <tr>\n",
              "      <th>3</th>\n",
              "      <td>todayinmaker wired   was a pivotal year in the...</td>\n",
              "      <td>1</td>\n",
              "      <td>todayinmaker wired   wa a pivotal year in the ...</td>\n",
              "    </tr>\n",
              "    <tr>\n",
              "      <th>4</th>\n",
              "      <td>it is  and a racist sexist climate change deny...</td>\n",
              "      <td>1</td>\n",
              "      <td>it is  and a racist sexist climate change deny...</td>\n",
              "    </tr>\n",
              "  </tbody>\n",
              "</table>\n",
              "</div>"
            ],
            "text/plain": [
              "                                             message  sentiment  \\\n",
              "0  polyscimajor epa chief does not think carbon d...          1   \n",
              "1  it is not like we lack evidence of anthropogen...          1   \n",
              "2  researchers say we have three years to act on ...          2   \n",
              "3  todayinmaker wired   was a pivotal year in the...          1   \n",
              "4  it is  and a racist sexist climate change deny...          1   \n",
              "\n",
              "                                               lemma  \n",
              "0  polyscimajor epa chief doe not think carbon di...  \n",
              "1  it is not like we lack evidence of anthropogen...  \n",
              "2  researcher say we have three year to act on cl...  \n",
              "3  todayinmaker wired   wa a pivotal year in the ...  \n",
              "4  it is  and a racist sexist climate change deny...  "
            ]
          },
          "metadata": {
            "tags": []
          },
          "execution_count": 20
        }
      ]
    },
    {
      "cell_type": "code",
      "metadata": {
        "id": "1RX5zhsHboD-",
        "colab_type": "code",
        "colab": {},
        "outputId": "f28465c1-4f8e-4932-d166-4fa486f4f9f4"
      },
      "source": [
        "train['sentiment'] = train.pop('sentiment')\n",
        "train.head()"
      ],
      "execution_count": null,
      "outputs": [
        {
          "output_type": "execute_result",
          "data": {
            "text/html": [
              "<div>\n",
              "<style scoped>\n",
              "    .dataframe tbody tr th:only-of-type {\n",
              "        vertical-align: middle;\n",
              "    }\n",
              "\n",
              "    .dataframe tbody tr th {\n",
              "        vertical-align: top;\n",
              "    }\n",
              "\n",
              "    .dataframe thead th {\n",
              "        text-align: right;\n",
              "    }\n",
              "</style>\n",
              "<table border=\"1\" class=\"dataframe\">\n",
              "  <thead>\n",
              "    <tr style=\"text-align: right;\">\n",
              "      <th></th>\n",
              "      <th>message</th>\n",
              "      <th>lemma</th>\n",
              "      <th>sentiment</th>\n",
              "    </tr>\n",
              "  </thead>\n",
              "  <tbody>\n",
              "    <tr>\n",
              "      <th>0</th>\n",
              "      <td>polyscimajor epa chief does not think carbon d...</td>\n",
              "      <td>polyscimajor epa chief doe not think carbon di...</td>\n",
              "      <td>1</td>\n",
              "    </tr>\n",
              "    <tr>\n",
              "      <th>1</th>\n",
              "      <td>it is not like we lack evidence of anthropogen...</td>\n",
              "      <td>it is not like we lack evidence of anthropogen...</td>\n",
              "      <td>1</td>\n",
              "    </tr>\n",
              "    <tr>\n",
              "      <th>2</th>\n",
              "      <td>researchers say we have three years to act on ...</td>\n",
              "      <td>researcher say we have three year to act on cl...</td>\n",
              "      <td>2</td>\n",
              "    </tr>\n",
              "    <tr>\n",
              "      <th>3</th>\n",
              "      <td>todayinmaker wired   was a pivotal year in the...</td>\n",
              "      <td>todayinmaker wired   wa a pivotal year in the ...</td>\n",
              "      <td>1</td>\n",
              "    </tr>\n",
              "    <tr>\n",
              "      <th>4</th>\n",
              "      <td>it is  and a racist sexist climate change deny...</td>\n",
              "      <td>it is  and a racist sexist climate change deny...</td>\n",
              "      <td>1</td>\n",
              "    </tr>\n",
              "  </tbody>\n",
              "</table>\n",
              "</div>"
            ],
            "text/plain": [
              "                                             message  \\\n",
              "0  polyscimajor epa chief does not think carbon d...   \n",
              "1  it is not like we lack evidence of anthropogen...   \n",
              "2  researchers say we have three years to act on ...   \n",
              "3  todayinmaker wired   was a pivotal year in the...   \n",
              "4  it is  and a racist sexist climate change deny...   \n",
              "\n",
              "                                               lemma  sentiment  \n",
              "0  polyscimajor epa chief doe not think carbon di...          1  \n",
              "1  it is not like we lack evidence of anthropogen...          1  \n",
              "2  researcher say we have three year to act on cl...          2  \n",
              "3  todayinmaker wired   wa a pivotal year in the ...          1  \n",
              "4  it is  and a racist sexist climate change deny...          1  "
            ]
          },
          "metadata": {
            "tags": []
          },
          "execution_count": 21
        }
      ]
    },
    {
      "cell_type": "code",
      "metadata": {
        "id": "vUfxTNZ4boED",
        "colab_type": "code",
        "colab": {},
        "outputId": "42afa097-ddc4-4b83-d4e4-f4528f7f329a"
      },
      "source": [
        "#Check for stopwords train\n",
        "stop = stopwords.words('english')\n",
        "train['stopwords'] = train['lemma'].apply(lambda x: len([x for x in x.split() if x in stop]))\n",
        "train[['lemma','stopwords']].head()"
      ],
      "execution_count": null,
      "outputs": [
        {
          "output_type": "execute_result",
          "data": {
            "text/html": [
              "<div>\n",
              "<style scoped>\n",
              "    .dataframe tbody tr th:only-of-type {\n",
              "        vertical-align: middle;\n",
              "    }\n",
              "\n",
              "    .dataframe tbody tr th {\n",
              "        vertical-align: top;\n",
              "    }\n",
              "\n",
              "    .dataframe thead th {\n",
              "        text-align: right;\n",
              "    }\n",
              "</style>\n",
              "<table border=\"1\" class=\"dataframe\">\n",
              "  <thead>\n",
              "    <tr style=\"text-align: right;\">\n",
              "      <th></th>\n",
              "      <th>lemma</th>\n",
              "      <th>stopwords</th>\n",
              "    </tr>\n",
              "  </thead>\n",
              "  <tbody>\n",
              "    <tr>\n",
              "      <th>0</th>\n",
              "      <td>polyscimajor epa chief doe not think carbon di...</td>\n",
              "      <td>5</td>\n",
              "    </tr>\n",
              "    <tr>\n",
              "      <th>1</th>\n",
              "      <td>it is not like we lack evidence of anthropogen...</td>\n",
              "      <td>5</td>\n",
              "    </tr>\n",
              "    <tr>\n",
              "      <th>2</th>\n",
              "      <td>researcher say we have three year to act on cl...</td>\n",
              "      <td>7</td>\n",
              "    </tr>\n",
              "    <tr>\n",
              "      <th>3</th>\n",
              "      <td>todayinmaker wired   wa a pivotal year in the ...</td>\n",
              "      <td>4</td>\n",
              "    </tr>\n",
              "    <tr>\n",
              "      <th>4</th>\n",
              "      <td>it is  and a racist sexist climate change deny...</td>\n",
              "      <td>7</td>\n",
              "    </tr>\n",
              "  </tbody>\n",
              "</table>\n",
              "</div>"
            ],
            "text/plain": [
              "                                               lemma  stopwords\n",
              "0  polyscimajor epa chief doe not think carbon di...          5\n",
              "1  it is not like we lack evidence of anthropogen...          5\n",
              "2  researcher say we have three year to act on cl...          7\n",
              "3  todayinmaker wired   wa a pivotal year in the ...          4\n",
              "4  it is  and a racist sexist climate change deny...          7"
            ]
          },
          "metadata": {
            "tags": []
          },
          "execution_count": 22
        }
      ]
    },
    {
      "cell_type": "code",
      "metadata": {
        "id": "tgyE8Eo_boEI",
        "colab_type": "code",
        "colab": {},
        "outputId": "9fbea55d-80c5-4704-de9e-9c63ecb172b0"
      },
      "source": [
        "#Check for stopwords test\n",
        "stop = stopwords.words('english')\n",
        "test['stopwords'] = test['lemma'].apply(lambda x: len([x for x in x.split() if x in stop]))\n",
        "test[['lemma','stopwords']].head()"
      ],
      "execution_count": null,
      "outputs": [
        {
          "output_type": "execute_result",
          "data": {
            "text/html": [
              "<div>\n",
              "<style scoped>\n",
              "    .dataframe tbody tr th:only-of-type {\n",
              "        vertical-align: middle;\n",
              "    }\n",
              "\n",
              "    .dataframe tbody tr th {\n",
              "        vertical-align: top;\n",
              "    }\n",
              "\n",
              "    .dataframe thead th {\n",
              "        text-align: right;\n",
              "    }\n",
              "</style>\n",
              "<table border=\"1\" class=\"dataframe\">\n",
              "  <thead>\n",
              "    <tr style=\"text-align: right;\">\n",
              "      <th></th>\n",
              "      <th>lemma</th>\n",
              "      <th>stopwords</th>\n",
              "    </tr>\n",
              "  </thead>\n",
              "  <tbody>\n",
              "    <tr>\n",
              "      <th>0</th>\n",
              "      <td>europe will now be looking to china to make su...</td>\n",
              "      <td>10</td>\n",
              "    </tr>\n",
              "    <tr>\n",
              "      <th>1</th>\n",
              "      <td>combine this with the polling of staffer re cl...</td>\n",
              "      <td>10</td>\n",
              "    </tr>\n",
              "    <tr>\n",
              "      <th>2</th>\n",
              "      <td>the scary unimpeachable evidence that climate ...</td>\n",
              "      <td>4</td>\n",
              "    </tr>\n",
              "    <tr>\n",
              "      <th>3</th>\n",
              "      <td>putin got to you too jill   trump doe not beli...</td>\n",
              "      <td>10</td>\n",
              "    </tr>\n",
              "    <tr>\n",
              "      <th>4</th>\n",
              "      <td>female orgasm cause global warming sarcastic r...</td>\n",
              "      <td>0</td>\n",
              "    </tr>\n",
              "  </tbody>\n",
              "</table>\n",
              "</div>"
            ],
            "text/plain": [
              "                                               lemma  stopwords\n",
              "0  europe will now be looking to china to make su...         10\n",
              "1  combine this with the polling of staffer re cl...         10\n",
              "2  the scary unimpeachable evidence that climate ...          4\n",
              "3  putin got to you too jill   trump doe not beli...         10\n",
              "4  female orgasm cause global warming sarcastic r...          0"
            ]
          },
          "metadata": {
            "tags": []
          },
          "execution_count": 23
        }
      ]
    },
    {
      "cell_type": "code",
      "metadata": {
        "id": "c3sMP7ESboEL",
        "colab_type": "code",
        "colab": {}
      },
      "source": [
        "def remove_stop_words(word):\n",
        "    if word not in stop:\n",
        "        return word\n",
        "    else:\n",
        "        return ''"
      ],
      "execution_count": null,
      "outputs": []
    },
    {
      "cell_type": "code",
      "metadata": {
        "id": "C72xH4yiboEP",
        "colab_type": "code",
        "colab": {}
      },
      "source": [
        "test['lemma_no_stop'] = [' '.join([remove_stop_words(word) for word in text.split(' ')])for text in test['lemma']]"
      ],
      "execution_count": null,
      "outputs": []
    },
    {
      "cell_type": "code",
      "metadata": {
        "id": "4jO8mYecboET",
        "colab_type": "code",
        "colab": {},
        "outputId": "b04ab492-7dfc-4586-b9df-38f783fffba0"
      },
      "source": [
        "test.head()"
      ],
      "execution_count": null,
      "outputs": [
        {
          "output_type": "execute_result",
          "data": {
            "text/html": [
              "<div>\n",
              "<style scoped>\n",
              "    .dataframe tbody tr th:only-of-type {\n",
              "        vertical-align: middle;\n",
              "    }\n",
              "\n",
              "    .dataframe tbody tr th {\n",
              "        vertical-align: top;\n",
              "    }\n",
              "\n",
              "    .dataframe thead th {\n",
              "        text-align: right;\n",
              "    }\n",
              "</style>\n",
              "<table border=\"1\" class=\"dataframe\">\n",
              "  <thead>\n",
              "    <tr style=\"text-align: right;\">\n",
              "      <th></th>\n",
              "      <th>message</th>\n",
              "      <th>lemma</th>\n",
              "      <th>stopwords</th>\n",
              "      <th>lemma_no_stop</th>\n",
              "    </tr>\n",
              "  </thead>\n",
              "  <tbody>\n",
              "    <tr>\n",
              "      <th>0</th>\n",
              "      <td>europe will now be looking to china to make su...</td>\n",
              "      <td>europe will now be looking to china to make su...</td>\n",
              "      <td>10</td>\n",
              "      <td>europe    looking  china  make sure     alone ...</td>\n",
              "    </tr>\n",
              "    <tr>\n",
              "      <th>1</th>\n",
              "      <td>combine this with the polling of staffers re c...</td>\n",
              "      <td>combine this with the polling of staffer re cl...</td>\n",
              "      <td>10</td>\n",
              "      <td>combine    polling  staffer  climate change  w...</td>\n",
              "    </tr>\n",
              "    <tr>\n",
              "      <th>2</th>\n",
              "      <td>the scary unimpeachable evidence that climate ...</td>\n",
              "      <td>the scary unimpeachable evidence that climate ...</td>\n",
              "      <td>4</td>\n",
              "      <td>scary unimpeachable evidence  climate change ...</td>\n",
              "    </tr>\n",
              "    <tr>\n",
              "      <th>3</th>\n",
              "      <td>putin got to you too jill   trump does not bel...</td>\n",
              "      <td>putin got to you too jill   trump doe not beli...</td>\n",
              "      <td>10</td>\n",
              "      <td>putin got    jill   trump doe  believe  climat...</td>\n",
              "    </tr>\n",
              "    <tr>\n",
              "      <th>4</th>\n",
              "      <td>female orgasms cause global warming sarcastic ...</td>\n",
              "      <td>female orgasm cause global warming sarcastic r...</td>\n",
              "      <td>0</td>\n",
              "      <td>female orgasm cause global warming sarcastic r...</td>\n",
              "    </tr>\n",
              "  </tbody>\n",
              "</table>\n",
              "</div>"
            ],
            "text/plain": [
              "                                             message  \\\n",
              "0  europe will now be looking to china to make su...   \n",
              "1  combine this with the polling of staffers re c...   \n",
              "2  the scary unimpeachable evidence that climate ...   \n",
              "3  putin got to you too jill   trump does not bel...   \n",
              "4  female orgasms cause global warming sarcastic ...   \n",
              "\n",
              "                                               lemma  stopwords  \\\n",
              "0  europe will now be looking to china to make su...         10   \n",
              "1  combine this with the polling of staffer re cl...         10   \n",
              "2  the scary unimpeachable evidence that climate ...          4   \n",
              "3  putin got to you too jill   trump doe not beli...         10   \n",
              "4  female orgasm cause global warming sarcastic r...          0   \n",
              "\n",
              "                                       lemma_no_stop  \n",
              "0  europe    looking  china  make sure     alone ...  \n",
              "1  combine    polling  staffer  climate change  w...  \n",
              "2   scary unimpeachable evidence  climate change ...  \n",
              "3  putin got    jill   trump doe  believe  climat...  \n",
              "4  female orgasm cause global warming sarcastic r...  "
            ]
          },
          "metadata": {
            "tags": []
          },
          "execution_count": 26
        }
      ]
    },
    {
      "cell_type": "code",
      "metadata": {
        "scrolled": false,
        "id": "P9X8bIaVboEa",
        "colab_type": "code",
        "colab": {},
        "outputId": "8b0658ba-e206-41c1-f547-a033aff3980d"
      },
      "source": [
        "train.head()"
      ],
      "execution_count": null,
      "outputs": [
        {
          "output_type": "execute_result",
          "data": {
            "text/html": [
              "<div>\n",
              "<style scoped>\n",
              "    .dataframe tbody tr th:only-of-type {\n",
              "        vertical-align: middle;\n",
              "    }\n",
              "\n",
              "    .dataframe tbody tr th {\n",
              "        vertical-align: top;\n",
              "    }\n",
              "\n",
              "    .dataframe thead th {\n",
              "        text-align: right;\n",
              "    }\n",
              "</style>\n",
              "<table border=\"1\" class=\"dataframe\">\n",
              "  <thead>\n",
              "    <tr style=\"text-align: right;\">\n",
              "      <th></th>\n",
              "      <th>message</th>\n",
              "      <th>lemma</th>\n",
              "      <th>sentiment</th>\n",
              "      <th>stopwords</th>\n",
              "    </tr>\n",
              "  </thead>\n",
              "  <tbody>\n",
              "    <tr>\n",
              "      <th>0</th>\n",
              "      <td>polyscimajor epa chief does not think carbon d...</td>\n",
              "      <td>polyscimajor epa chief doe not think carbon di...</td>\n",
              "      <td>1</td>\n",
              "      <td>5</td>\n",
              "    </tr>\n",
              "    <tr>\n",
              "      <th>1</th>\n",
              "      <td>it is not like we lack evidence of anthropogen...</td>\n",
              "      <td>it is not like we lack evidence of anthropogen...</td>\n",
              "      <td>1</td>\n",
              "      <td>5</td>\n",
              "    </tr>\n",
              "    <tr>\n",
              "      <th>2</th>\n",
              "      <td>researchers say we have three years to act on ...</td>\n",
              "      <td>researcher say we have three year to act on cl...</td>\n",
              "      <td>2</td>\n",
              "      <td>7</td>\n",
              "    </tr>\n",
              "    <tr>\n",
              "      <th>3</th>\n",
              "      <td>todayinmaker wired   was a pivotal year in the...</td>\n",
              "      <td>todayinmaker wired   wa a pivotal year in the ...</td>\n",
              "      <td>1</td>\n",
              "      <td>4</td>\n",
              "    </tr>\n",
              "    <tr>\n",
              "      <th>4</th>\n",
              "      <td>it is  and a racist sexist climate change deny...</td>\n",
              "      <td>it is  and a racist sexist climate change deny...</td>\n",
              "      <td>1</td>\n",
              "      <td>7</td>\n",
              "    </tr>\n",
              "  </tbody>\n",
              "</table>\n",
              "</div>"
            ],
            "text/plain": [
              "                                             message  \\\n",
              "0  polyscimajor epa chief does not think carbon d...   \n",
              "1  it is not like we lack evidence of anthropogen...   \n",
              "2  researchers say we have three years to act on ...   \n",
              "3  todayinmaker wired   was a pivotal year in the...   \n",
              "4  it is  and a racist sexist climate change deny...   \n",
              "\n",
              "                                               lemma  sentiment  stopwords  \n",
              "0  polyscimajor epa chief doe not think carbon di...          1          5  \n",
              "1  it is not like we lack evidence of anthropogen...          1          5  \n",
              "2  researcher say we have three year to act on cl...          2          7  \n",
              "3  todayinmaker wired   wa a pivotal year in the ...          1          4  \n",
              "4  it is  and a racist sexist climate change deny...          1          7  "
            ]
          },
          "metadata": {
            "tags": []
          },
          "execution_count": 27
        }
      ]
    },
    {
      "cell_type": "code",
      "metadata": {
        "id": "HMW8YMUCboEe",
        "colab_type": "code",
        "colab": {}
      },
      "source": [
        "from sklearn.feature_extraction.text import TfidfVectorizer"
      ],
      "execution_count": null,
      "outputs": []
    },
    {
      "cell_type": "code",
      "metadata": {
        "id": "Xo5_1IcsboEh",
        "colab_type": "code",
        "colab": {}
      },
      "source": [
        "vect_a = TfidfVectorizer(lowercase=True, \n",
        "                            stop_words='english', \n",
        "                            #max_features=250,\n",
        "                            min_df=4,\n",
        "                            max_df=0.5\n",
        "                           )\n"
      ],
      "execution_count": null,
      "outputs": []
    },
    {
      "cell_type": "code",
      "metadata": {
        "id": "w_uKo2bTboEk",
        "colab_type": "code",
        "colab": {}
      },
      "source": [
        "vect_a.fit(train['lemma'])\n",
        "X_a= vect_a.transform(train['lemma'])"
      ],
      "execution_count": null,
      "outputs": []
    },
    {
      "cell_type": "code",
      "metadata": {
        "scrolled": true,
        "id": "cR1wCU04boEn",
        "colab_type": "code",
        "colab": {},
        "outputId": "d9c3d061-60ea-460c-b725-3a7b72b8f2b0"
      },
      "source": [
        "X_a.shape"
      ],
      "execution_count": null,
      "outputs": [
        {
          "output_type": "execute_result",
          "data": {
            "text/plain": [
              "(15819, 3767)"
            ]
          },
          "metadata": {
            "tags": []
          },
          "execution_count": 31
        }
      ]
    },
    {
      "cell_type": "code",
      "metadata": {
        "id": "ijBMXsSFboEq",
        "colab_type": "code",
        "colab": {}
      },
      "source": [
        "y = train['sentiment']"
      ],
      "execution_count": null,
      "outputs": []
    },
    {
      "cell_type": "code",
      "metadata": {
        "id": "GGVgohWlboEt",
        "colab_type": "code",
        "colab": {}
      },
      "source": [
        "X_train, X_test, y_train, y_test = train_test_split(X_a, \n",
        "                                                    y,\n",
        "                                                    test_size =0.2,\n",
        "                                                   random_state = 27)"
      ],
      "execution_count": null,
      "outputs": []
    },
    {
      "cell_type": "code",
      "metadata": {
        "id": "4oIXCmS3boEw",
        "colab_type": "code",
        "colab": {}
      },
      "source": [
        "logreg = LogisticRegression(multi_class='ovr')"
      ],
      "execution_count": null,
      "outputs": []
    },
    {
      "cell_type": "code",
      "metadata": {
        "id": "42fZeIztboEy",
        "colab_type": "code",
        "colab": {},
        "outputId": "17ad27c5-4383-496f-92ea-5279256d57f7"
      },
      "source": [
        "logreg.fit(X_train,y_train)"
      ],
      "execution_count": null,
      "outputs": [
        {
          "output_type": "execute_result",
          "data": {
            "text/plain": [
              "LogisticRegression(multi_class='ovr')"
            ]
          },
          "metadata": {
            "tags": []
          },
          "execution_count": 35
        }
      ]
    },
    {
      "cell_type": "code",
      "metadata": {
        "id": "rg4vUqwGboE1",
        "colab_type": "code",
        "colab": {}
      },
      "source": [
        "y_pred_train = logreg.predict(X_train)"
      ],
      "execution_count": null,
      "outputs": []
    },
    {
      "cell_type": "code",
      "metadata": {
        "scrolled": true,
        "id": "jsemppMhboE3",
        "colab_type": "code",
        "colab": {},
        "outputId": "7255e4c4-a40b-46c2-bf72-145c3bbcdc16"
      },
      "source": [
        "from sklearn.metrics import accuracy_score\n",
        "accuracy_score(y_train, y_pred_train)"
      ],
      "execution_count": null,
      "outputs": [
        {
          "output_type": "execute_result",
          "data": {
            "text/plain": [
              "0.7693401817463453"
            ]
          },
          "metadata": {
            "tags": []
          },
          "execution_count": 37
        }
      ]
    },
    {
      "cell_type": "code",
      "metadata": {
        "id": "qVqVlkKeboE8",
        "colab_type": "code",
        "colab": {}
      },
      "source": [
        "y_pred_test = logreg.predict(X_test)"
      ],
      "execution_count": null,
      "outputs": []
    },
    {
      "cell_type": "code",
      "metadata": {
        "scrolled": true,
        "id": "QEhTaFS0boE_",
        "colab_type": "code",
        "colab": {},
        "outputId": "e2146897-720b-4022-e7dc-e3c257990402"
      },
      "source": [
        "accuracy_score(y_test, y_pred_test)"
      ],
      "execution_count": null,
      "outputs": [
        {
          "output_type": "execute_result",
          "data": {
            "text/plain": [
              "0.70448798988622"
            ]
          },
          "metadata": {
            "tags": []
          },
          "execution_count": 39
        }
      ]
    },
    {
      "cell_type": "code",
      "metadata": {
        "id": "rumbuo5dboFC",
        "colab_type": "code",
        "colab": {},
        "outputId": "326eb8a2-0be0-46d8-fb94-28f831988a4e"
      },
      "source": [
        "# Classification report\n",
        "from sklearn.metrics import classification_report\n",
        "print(classification_report(y_test, y_pred_test))"
      ],
      "execution_count": null,
      "outputs": [
        {
          "output_type": "stream",
          "text": [
            "              precision    recall  f1-score   support\n",
            "\n",
            "          -1       0.81      0.26      0.39       246\n",
            "           0       0.62      0.30      0.40       455\n",
            "           1       0.70      0.91      0.79      1730\n",
            "           2       0.73      0.63      0.68       733\n",
            "\n",
            "    accuracy                           0.70      3164\n",
            "   macro avg       0.72      0.52      0.57      3164\n",
            "weighted avg       0.70      0.70      0.68      3164\n",
            "\n"
          ],
          "name": "stdout"
        }
      ]
    },
    {
      "cell_type": "code",
      "metadata": {
        "id": "WYmyr0AwboFL",
        "colab_type": "code",
        "colab": {}
      },
      "source": [
        "#resampled"
      ],
      "execution_count": null,
      "outputs": []
    },
    {
      "cell_type": "code",
      "metadata": {
        "id": "eujfkTY5boFW",
        "colab_type": "code",
        "colab": {},
        "outputId": "fe409a71-1c91-489a-ad13-de6bdb0932f1"
      },
      "source": [
        "train1"
      ],
      "execution_count": null,
      "outputs": [
        {
          "output_type": "execute_result",
          "data": {
            "text/html": [
              "<div>\n",
              "<style scoped>\n",
              "    .dataframe tbody tr th:only-of-type {\n",
              "        vertical-align: middle;\n",
              "    }\n",
              "\n",
              "    .dataframe tbody tr th {\n",
              "        vertical-align: top;\n",
              "    }\n",
              "\n",
              "    .dataframe thead th {\n",
              "        text-align: right;\n",
              "    }\n",
              "</style>\n",
              "<table border=\"1\" class=\"dataframe\">\n",
              "  <thead>\n",
              "    <tr style=\"text-align: right;\">\n",
              "      <th></th>\n",
              "      <th>sentiment</th>\n",
              "      <th>message</th>\n",
              "      <th>tweetid</th>\n",
              "    </tr>\n",
              "  </thead>\n",
              "  <tbody>\n",
              "    <tr>\n",
              "      <th>0</th>\n",
              "      <td>1</td>\n",
              "      <td>PolySciMajor EPA chief doesn't think carbon di...</td>\n",
              "      <td>625221</td>\n",
              "    </tr>\n",
              "    <tr>\n",
              "      <th>1</th>\n",
              "      <td>1</td>\n",
              "      <td>It's not like we lack evidence of anthropogeni...</td>\n",
              "      <td>126103</td>\n",
              "    </tr>\n",
              "    <tr>\n",
              "      <th>2</th>\n",
              "      <td>2</td>\n",
              "      <td>RT @RawStory: Researchers say we have three ye...</td>\n",
              "      <td>698562</td>\n",
              "    </tr>\n",
              "    <tr>\n",
              "      <th>3</th>\n",
              "      <td>1</td>\n",
              "      <td>#TodayinMaker# WIRED : 2016 was a pivotal year...</td>\n",
              "      <td>573736</td>\n",
              "    </tr>\n",
              "    <tr>\n",
              "      <th>4</th>\n",
              "      <td>1</td>\n",
              "      <td>RT @SoyNovioDeTodas: It's 2016, and a racist, ...</td>\n",
              "      <td>466954</td>\n",
              "    </tr>\n",
              "    <tr>\n",
              "      <th>...</th>\n",
              "      <td>...</td>\n",
              "      <td>...</td>\n",
              "      <td>...</td>\n",
              "    </tr>\n",
              "    <tr>\n",
              "      <th>15814</th>\n",
              "      <td>1</td>\n",
              "      <td>RT @ezlusztig: They took down the material on ...</td>\n",
              "      <td>22001</td>\n",
              "    </tr>\n",
              "    <tr>\n",
              "      <th>15815</th>\n",
              "      <td>2</td>\n",
              "      <td>RT @washingtonpost: How climate change could b...</td>\n",
              "      <td>17856</td>\n",
              "    </tr>\n",
              "    <tr>\n",
              "      <th>15816</th>\n",
              "      <td>0</td>\n",
              "      <td>notiven: RT: nytimesworld :What does Trump act...</td>\n",
              "      <td>384248</td>\n",
              "    </tr>\n",
              "    <tr>\n",
              "      <th>15817</th>\n",
              "      <td>-1</td>\n",
              "      <td>RT @sara8smiles: Hey liberals the climate chan...</td>\n",
              "      <td>819732</td>\n",
              "    </tr>\n",
              "    <tr>\n",
              "      <th>15818</th>\n",
              "      <td>0</td>\n",
              "      <td>RT @Chet_Cannon: .@kurteichenwald's 'climate c...</td>\n",
              "      <td>806319</td>\n",
              "    </tr>\n",
              "  </tbody>\n",
              "</table>\n",
              "<p>15819 rows × 3 columns</p>\n",
              "</div>"
            ],
            "text/plain": [
              "       sentiment                                            message  tweetid\n",
              "0              1  PolySciMajor EPA chief doesn't think carbon di...   625221\n",
              "1              1  It's not like we lack evidence of anthropogeni...   126103\n",
              "2              2  RT @RawStory: Researchers say we have three ye...   698562\n",
              "3              1  #TodayinMaker# WIRED : 2016 was a pivotal year...   573736\n",
              "4              1  RT @SoyNovioDeTodas: It's 2016, and a racist, ...   466954\n",
              "...          ...                                                ...      ...\n",
              "15814          1  RT @ezlusztig: They took down the material on ...    22001\n",
              "15815          2  RT @washingtonpost: How climate change could b...    17856\n",
              "15816          0  notiven: RT: nytimesworld :What does Trump act...   384248\n",
              "15817         -1  RT @sara8smiles: Hey liberals the climate chan...   819732\n",
              "15818          0  RT @Chet_Cannon: .@kurteichenwald's 'climate c...   806319\n",
              "\n",
              "[15819 rows x 3 columns]"
            ]
          },
          "metadata": {
            "tags": []
          },
          "execution_count": 42
        }
      ]
    },
    {
      "cell_type": "code",
      "metadata": {
        "id": "xtx6qAVVboFd",
        "colab_type": "code",
        "colab": {}
      },
      "source": [
        "contractions = {\"ain't\": \"am not\", \"aren't\": \"are not\", \"can't\": \"cannot\", \"can't've\": \"cannot have\", \"'cause\": \"because\", \"could've\": \"could have\", \"couldn't\": \"could not\", \"couldn't've\": \"could not have\", \"didn't\": \"did not\", \"doesn't\": \"does not\", \"don't\": \"do not\", \"hadn't\": \"had not\", \"hadn't've\": \"had not have\", \"hasn't\": \"has not\", \"haven't\": \"have not\", \"he'd\": \"he would\", \"he'd've\": \"he would have\", \"he'll\": \"he will\", \"he'll've\": \"he will have\", \"he's\": \"he is\", \"how'd\": \"how did\", \"how'd'y\": \"how do you\", \"how'll\": \"how will\", \"how's\": \"how is\", \"i'd\": \"I would\", \"i'd've\": \"I would have\", \"i'll\": \"I will\", \"i'll've\": \"I will have\", \"i'm\": \"I am\", \"i've\": \"I have\", \"isn't\": \"is not\", \"it'd\": \"it had\", \"it'd've\": \"it would have\", \"it'll\": \"it will\", \"it'll've\": \"it will have\", \"it's\": \"it is\", \"let's\": \"let us\", \"ma'am\": \"madam\", \"mayn't\": \"may not\", \"might've\": \"might have\", \"mightn't\": \"might not\", \"mightn't've\": \"might not have\", \"must've\": \"must have\", \"mustn't\": \"must not\", \"mustn't've\": \"must not have\", \"needn't\": \"need not\", \"needn't've\": \"need not have\", \"o'clock\": \"of the clock\", \"oughtn't\": \"ought not\", \"oughtn't've\": \"ought not have\", \"shan't\": \"shall not\", \"sha'n't\": \"shall not\", \"shan't've\": \"shall not have\", \"she'd\": \"she would\", \"she'd've\": \"she would have\", \"she'll\": \"she will\", \"she'll've\": \"she will have\", \"she's\": \"she is\", \"should've\": \"should have\", \"shouldn't\": \"should not\", \"shouldn't've\": \"should not have\", \"so've\": \"so have\", \"so's\": \"so is\", \"that'd\": \"that would\", \"that'd've\": \"that would have\", \"that's\": \"that is\", \"there'd\": \"there had\", \"there'd've\": \"there would have\", \"there's\": \"there is\", \"they'd\": \"they would\", \"they'd've\": \"they would have\", \"they'll\": \"they will\", \"they'll've\": \"they will have\", \"they're\": \"they are\", \"they've\": \"they have\", \"to've\": \"to have\", \"wasn't\": \"was not\", \"we'd\": \"we had\", \"we'd've\": \"we would have\", \"we'll\": \"we will\", \"we'll've\": \"we will have\", \"we're\": \"we are\", \"we've\": \"we have\", \"weren't\": \"were not\", \"what'll\": \"what will\", \"what'll've\": \"what will have\", \"what're\": \"what are\", \"what's\": \"what is\", \"what've\": \"what have\", \"when's\": \"when is\", \"when've\": \"when have\", \"where'd\": \"where did\", \"where's\": \"where is\", \"where've\": \"where have\", \"who'll\": \"who will\", \"who'll've\": \"who will have\", \"who's\": \"who is\", \"who've\": \"who have\", \"why's\": \"why is\", \"why've\": \"why have\", \"will've\": \"will have\", \"won't\": \"will not\", \"won't've\": \"will not have\", \"would've\": \"would have\", \"wouldn't\": \"would not\", \"wouldn't've\": \"would not have\", \"y'all\": \"you all\", \"y'alls\": \"you alls\", \"y'all'd\": \"you all would\", \"y'all'd've\": \"you all would have\", \"y'all're\": \"you all are\", \"y'all've\": \"you all have\", \"you'd\": \"you had\", \"you'd've\": \"you would have\", \"you'll\": \"you you will\", \"you'll've\": \"you you will have\", \"you're\": \"you are\", \"you've\": \"you have\"}\n",
        "contractions_re = re.compile('(%s)' % '|'.join(contractions.keys()))\n",
        "def expand_contractions(text):\n",
        "    \"\"\"\n",
        "    Expand contractions using dictionary of contractions.\n",
        "    \"\"\"\n",
        "    text = text.lower()\n",
        "    def replace(match):\n",
        "        return contractions[match.group(0)]\n",
        "    return contractions_re.sub(replace, text)\n",
        "\n",
        "train1['message'] = train1['message'].apply(expand_contractions)\n",
        "test1['message'] = test1['message'].apply(expand_contractions)"
      ],
      "execution_count": null,
      "outputs": []
    },
    {
      "cell_type": "code",
      "metadata": {
        "scrolled": false,
        "id": "_c8zBePkboFi",
        "colab_type": "code",
        "colab": {},
        "outputId": "1db93fa8-7af1-40ae-8588-35c5b5a8abe8"
      },
      "source": [
        "train1"
      ],
      "execution_count": null,
      "outputs": [
        {
          "output_type": "execute_result",
          "data": {
            "text/html": [
              "<div>\n",
              "<style scoped>\n",
              "    .dataframe tbody tr th:only-of-type {\n",
              "        vertical-align: middle;\n",
              "    }\n",
              "\n",
              "    .dataframe tbody tr th {\n",
              "        vertical-align: top;\n",
              "    }\n",
              "\n",
              "    .dataframe thead th {\n",
              "        text-align: right;\n",
              "    }\n",
              "</style>\n",
              "<table border=\"1\" class=\"dataframe\">\n",
              "  <thead>\n",
              "    <tr style=\"text-align: right;\">\n",
              "      <th></th>\n",
              "      <th>sentiment</th>\n",
              "      <th>message</th>\n",
              "      <th>tweetid</th>\n",
              "    </tr>\n",
              "  </thead>\n",
              "  <tbody>\n",
              "    <tr>\n",
              "      <th>0</th>\n",
              "      <td>1</td>\n",
              "      <td>polyscimajor epa chief does not think carbon d...</td>\n",
              "      <td>625221</td>\n",
              "    </tr>\n",
              "    <tr>\n",
              "      <th>1</th>\n",
              "      <td>1</td>\n",
              "      <td>it is not like we lack evidence of anthropogen...</td>\n",
              "      <td>126103</td>\n",
              "    </tr>\n",
              "    <tr>\n",
              "      <th>2</th>\n",
              "      <td>2</td>\n",
              "      <td>rt @rawstory: researchers say we have three ye...</td>\n",
              "      <td>698562</td>\n",
              "    </tr>\n",
              "    <tr>\n",
              "      <th>3</th>\n",
              "      <td>1</td>\n",
              "      <td>#todayinmaker# wired : 2016 was a pivotal year...</td>\n",
              "      <td>573736</td>\n",
              "    </tr>\n",
              "    <tr>\n",
              "      <th>4</th>\n",
              "      <td>1</td>\n",
              "      <td>rt @soynoviodetodas: it is 2016, and a racist,...</td>\n",
              "      <td>466954</td>\n",
              "    </tr>\n",
              "    <tr>\n",
              "      <th>...</th>\n",
              "      <td>...</td>\n",
              "      <td>...</td>\n",
              "      <td>...</td>\n",
              "    </tr>\n",
              "    <tr>\n",
              "      <th>15814</th>\n",
              "      <td>1</td>\n",
              "      <td>rt @ezlusztig: they took down the material on ...</td>\n",
              "      <td>22001</td>\n",
              "    </tr>\n",
              "    <tr>\n",
              "      <th>15815</th>\n",
              "      <td>2</td>\n",
              "      <td>rt @washingtonpost: how climate change could b...</td>\n",
              "      <td>17856</td>\n",
              "    </tr>\n",
              "    <tr>\n",
              "      <th>15816</th>\n",
              "      <td>0</td>\n",
              "      <td>notiven: rt: nytimesworld :what does trump act...</td>\n",
              "      <td>384248</td>\n",
              "    </tr>\n",
              "    <tr>\n",
              "      <th>15817</th>\n",
              "      <td>-1</td>\n",
              "      <td>rt @sara8smiles: hey liberals the climate chan...</td>\n",
              "      <td>819732</td>\n",
              "    </tr>\n",
              "    <tr>\n",
              "      <th>15818</th>\n",
              "      <td>0</td>\n",
              "      <td>rt @chet_cannon: .@kurteichenwald's 'climate c...</td>\n",
              "      <td>806319</td>\n",
              "    </tr>\n",
              "  </tbody>\n",
              "</table>\n",
              "<p>15819 rows × 3 columns</p>\n",
              "</div>"
            ],
            "text/plain": [
              "       sentiment                                            message  tweetid\n",
              "0              1  polyscimajor epa chief does not think carbon d...   625221\n",
              "1              1  it is not like we lack evidence of anthropogen...   126103\n",
              "2              2  rt @rawstory: researchers say we have three ye...   698562\n",
              "3              1  #todayinmaker# wired : 2016 was a pivotal year...   573736\n",
              "4              1  rt @soynoviodetodas: it is 2016, and a racist,...   466954\n",
              "...          ...                                                ...      ...\n",
              "15814          1  rt @ezlusztig: they took down the material on ...    22001\n",
              "15815          2  rt @washingtonpost: how climate change could b...    17856\n",
              "15816          0  notiven: rt: nytimesworld :what does trump act...   384248\n",
              "15817         -1  rt @sara8smiles: hey liberals the climate chan...   819732\n",
              "15818          0  rt @chet_cannon: .@kurteichenwald's 'climate c...   806319\n",
              "\n",
              "[15819 rows x 3 columns]"
            ]
          },
          "metadata": {
            "tags": []
          },
          "execution_count": 44
        }
      ]
    },
    {
      "cell_type": "code",
      "metadata": {
        "id": "essQ_O14boFs",
        "colab_type": "code",
        "colab": {}
      },
      "source": [
        "http_regex = re.compile(r'http[s]?://(?:[A-Za-z]|[0-9]|[$-_@.&+]|[!*\\(\\),]|(?:%[0-9A-Fa-f][0-9A-Fa-f]))+')\n",
        "url_regex = re.compile(r'[-a-zA-Z0–9@:%._\\+~#=]{2,256}\\.[a-z]{2,6}\\b([-a-zA-Z0–9@:%_\\+.~#?&//=]*)')\n",
        "rt_regex = re.compile('^(RT|rt)( @\\w*)?')\n",
        "def remove_noise(tweet):\n",
        "    \"\"\"\n",
        "    Remove noise from text data, such as newlines, punctuation, URLs and numbers.\n",
        "    \"\"\"\n",
        "    new_tweet = tweet.replace('\\n',' ') #Remove Newlines\n",
        "    new_tweet = new_tweet.replace('\"',' ') #Remove Text Delimeters\n",
        "    new_tweet = new_tweet.replace('&amp',' ') #Remove Ampersands\n",
        "    new_tweet = http_regex.sub('', new_tweet) #Remove http URLs\n",
        "    new_tweet = url_regex.sub('', new_tweet) #Remove other URLs\n",
        "    new_tweet = rt_regex.sub('', new_tweet) #Remove RTs\n",
        "    new_tweet = re.sub(r'#(RT|rt)*', '', new_tweet) #Remove RTs\n",
        "    new_tweet = re.sub(r'@\\w*', '', new_tweet) #Remove Mentions\n",
        "    new_tweet = re.sub('\\w*\\d\\w*','', new_tweet) #Remove Numbers/Words with Numbers\n",
        "    new_tweet = re.sub('[^a-zA-z\\s]', '', new_tweet) #Remove Punctuation\n",
        "    new_tweet = new_tweet.strip() #Remove Excess Whitespace\n",
        "    return new_tweet\n",
        "\n",
        "train1['message'] = train1['message'].apply(remove_noise)\n",
        "test1['message'] = test1['message'].apply(remove_noise)"
      ],
      "execution_count": null,
      "outputs": []
    },
    {
      "cell_type": "code",
      "metadata": {
        "scrolled": true,
        "id": "R1UqUsopboF_",
        "colab_type": "code",
        "colab": {},
        "outputId": "c82090bd-9ff7-40c6-d633-7717235655f7"
      },
      "source": [
        "train1 = train1.drop('tweetid', axis=1)\n",
        "train1['sentiment'] = train1.pop('sentiment')\n",
        "train1.head()"
      ],
      "execution_count": null,
      "outputs": [
        {
          "output_type": "execute_result",
          "data": {
            "text/html": [
              "<div>\n",
              "<style scoped>\n",
              "    .dataframe tbody tr th:only-of-type {\n",
              "        vertical-align: middle;\n",
              "    }\n",
              "\n",
              "    .dataframe tbody tr th {\n",
              "        vertical-align: top;\n",
              "    }\n",
              "\n",
              "    .dataframe thead th {\n",
              "        text-align: right;\n",
              "    }\n",
              "</style>\n",
              "<table border=\"1\" class=\"dataframe\">\n",
              "  <thead>\n",
              "    <tr style=\"text-align: right;\">\n",
              "      <th></th>\n",
              "      <th>message</th>\n",
              "      <th>sentiment</th>\n",
              "    </tr>\n",
              "  </thead>\n",
              "  <tbody>\n",
              "    <tr>\n",
              "      <th>0</th>\n",
              "      <td>polyscimajor epa chief does not think carbon d...</td>\n",
              "      <td>1</td>\n",
              "    </tr>\n",
              "    <tr>\n",
              "      <th>1</th>\n",
              "      <td>it is not like we lack evidence of anthropogen...</td>\n",
              "      <td>1</td>\n",
              "    </tr>\n",
              "    <tr>\n",
              "      <th>2</th>\n",
              "      <td>researchers say we have three years to act on ...</td>\n",
              "      <td>2</td>\n",
              "    </tr>\n",
              "    <tr>\n",
              "      <th>3</th>\n",
              "      <td>todayinmaker wired   was a pivotal year in the...</td>\n",
              "      <td>1</td>\n",
              "    </tr>\n",
              "    <tr>\n",
              "      <th>4</th>\n",
              "      <td>it is  and a racist sexist climate change deny...</td>\n",
              "      <td>1</td>\n",
              "    </tr>\n",
              "  </tbody>\n",
              "</table>\n",
              "</div>"
            ],
            "text/plain": [
              "                                             message  sentiment\n",
              "0  polyscimajor epa chief does not think carbon d...          1\n",
              "1  it is not like we lack evidence of anthropogen...          1\n",
              "2  researchers say we have three years to act on ...          2\n",
              "3  todayinmaker wired   was a pivotal year in the...          1\n",
              "4  it is  and a racist sexist climate change deny...          1"
            ]
          },
          "metadata": {
            "tags": []
          },
          "execution_count": 46
        }
      ]
    },
    {
      "cell_type": "code",
      "metadata": {
        "id": "fXyvwdWdboGE",
        "colab_type": "code",
        "colab": {},
        "outputId": "24d304a7-55e6-4470-a02b-fcc2ca8170e0"
      },
      "source": [
        "tweetid = test1['tweetid'] #Save for Output File\n",
        "test1 = test1.drop('tweetid', axis=1)\n",
        "test1.head()"
      ],
      "execution_count": null,
      "outputs": [
        {
          "output_type": "execute_result",
          "data": {
            "text/html": [
              "<div>\n",
              "<style scoped>\n",
              "    .dataframe tbody tr th:only-of-type {\n",
              "        vertical-align: middle;\n",
              "    }\n",
              "\n",
              "    .dataframe tbody tr th {\n",
              "        vertical-align: top;\n",
              "    }\n",
              "\n",
              "    .dataframe thead th {\n",
              "        text-align: right;\n",
              "    }\n",
              "</style>\n",
              "<table border=\"1\" class=\"dataframe\">\n",
              "  <thead>\n",
              "    <tr style=\"text-align: right;\">\n",
              "      <th></th>\n",
              "      <th>message</th>\n",
              "    </tr>\n",
              "  </thead>\n",
              "  <tbody>\n",
              "    <tr>\n",
              "      <th>0</th>\n",
              "      <td>europe will now be looking to china to make su...</td>\n",
              "    </tr>\n",
              "    <tr>\n",
              "      <th>1</th>\n",
              "      <td>combine this with the polling of staffers re c...</td>\n",
              "    </tr>\n",
              "    <tr>\n",
              "      <th>2</th>\n",
              "      <td>the scary unimpeachable evidence that climate ...</td>\n",
              "    </tr>\n",
              "    <tr>\n",
              "      <th>3</th>\n",
              "      <td>putin got to you too jill   trump does not bel...</td>\n",
              "    </tr>\n",
              "    <tr>\n",
              "      <th>4</th>\n",
              "      <td>female orgasms cause global warming sarcastic ...</td>\n",
              "    </tr>\n",
              "  </tbody>\n",
              "</table>\n",
              "</div>"
            ],
            "text/plain": [
              "                                             message\n",
              "0  europe will now be looking to china to make su...\n",
              "1  combine this with the polling of staffers re c...\n",
              "2  the scary unimpeachable evidence that climate ...\n",
              "3  putin got to you too jill   trump does not bel...\n",
              "4  female orgasms cause global warming sarcastic ..."
            ]
          },
          "metadata": {
            "tags": []
          },
          "execution_count": 47
        }
      ]
    },
    {
      "cell_type": "code",
      "metadata": {
        "id": "g8SeMTrKboGI",
        "colab_type": "code",
        "colab": {},
        "outputId": "3f0d0787-82f0-4fe1-e663-276eb23d2c45"
      },
      "source": [
        "#how many tweets were for each sentiment\n",
        "type_sum = train1.groupby(['sentiment']).count()\n",
        "type_sum.sort_values('message', ascending=False, inplace=True)\n",
        "type_sum = type_sum.reset_index()\n",
        "type_sum"
      ],
      "execution_count": null,
      "outputs": [
        {
          "output_type": "execute_result",
          "data": {
            "text/html": [
              "<div>\n",
              "<style scoped>\n",
              "    .dataframe tbody tr th:only-of-type {\n",
              "        vertical-align: middle;\n",
              "    }\n",
              "\n",
              "    .dataframe tbody tr th {\n",
              "        vertical-align: top;\n",
              "    }\n",
              "\n",
              "    .dataframe thead th {\n",
              "        text-align: right;\n",
              "    }\n",
              "</style>\n",
              "<table border=\"1\" class=\"dataframe\">\n",
              "  <thead>\n",
              "    <tr style=\"text-align: right;\">\n",
              "      <th></th>\n",
              "      <th>sentiment</th>\n",
              "      <th>message</th>\n",
              "    </tr>\n",
              "  </thead>\n",
              "  <tbody>\n",
              "    <tr>\n",
              "      <th>0</th>\n",
              "      <td>1</td>\n",
              "      <td>8530</td>\n",
              "    </tr>\n",
              "    <tr>\n",
              "      <th>1</th>\n",
              "      <td>2</td>\n",
              "      <td>3640</td>\n",
              "    </tr>\n",
              "    <tr>\n",
              "      <th>2</th>\n",
              "      <td>0</td>\n",
              "      <td>2353</td>\n",
              "    </tr>\n",
              "    <tr>\n",
              "      <th>3</th>\n",
              "      <td>-1</td>\n",
              "      <td>1296</td>\n",
              "    </tr>\n",
              "  </tbody>\n",
              "</table>\n",
              "</div>"
            ],
            "text/plain": [
              "   sentiment  message\n",
              "0          1     8530\n",
              "1          2     3640\n",
              "2          0     2353\n",
              "3         -1     1296"
            ]
          },
          "metadata": {
            "tags": []
          },
          "execution_count": 48
        }
      ]
    },
    {
      "cell_type": "code",
      "metadata": {
        "id": "sDNd6SCOboGM",
        "colab_type": "code",
        "colab": {}
      },
      "source": [
        "df_1 = train1[train1['sentiment']==1]\n",
        "df_2 =  train1[train1['sentiment']==2]\n",
        "df_0 = train1[train1['sentiment']==0]\n",
        "df_11 = train1[train1['sentiment']==-1]"
      ],
      "execution_count": null,
      "outputs": []
    },
    {
      "cell_type": "code",
      "metadata": {
        "id": "r8OefqArboGO",
        "colab_type": "code",
        "colab": {}
      },
      "source": [
        "# Downsample majority\n",
        "not_spam_downsampled = resample(df_1,\n",
        "                          replace=False, # sample without replacement (no need to duplicate observations)\n",
        "                          n_samples=4500, # match number in minority class\n",
        "                          random_state=27) # reproducible results\n",
        "\n"
      ],
      "execution_count": null,
      "outputs": []
    },
    {
      "cell_type": "code",
      "metadata": {
        "id": "OkSx7MZUboGQ",
        "colab_type": "code",
        "colab": {}
      },
      "source": [
        "# Upsample minority\n",
        "spam_upsampled2 = resample(df_2,\n",
        "                          replace=True, # sample with replacement (we need to duplicate observations)\n",
        "                          n_samples=4500, # match number in minority class\n",
        "                          random_state=27) # reproducible results\n"
      ],
      "execution_count": null,
      "outputs": []
    },
    {
      "cell_type": "code",
      "metadata": {
        "id": "Ngy1lzSJboGT",
        "colab_type": "code",
        "colab": {}
      },
      "source": [
        "# Upsample minority\n",
        "spam_upsampled0 = resample(df_0,\n",
        "                          replace=True, # sample with replacement (we need to duplicate observations)\n",
        "                          n_samples=4500, # match number in minority class\n",
        "                          random_state=27) # reproducible results\n"
      ],
      "execution_count": null,
      "outputs": []
    },
    {
      "cell_type": "code",
      "metadata": {
        "id": "XYbGE_VkboGX",
        "colab_type": "code",
        "colab": {}
      },
      "source": [
        "# Upsample minority\n",
        "spam_upsampled11 = resample(df_11,\n",
        "                          replace=True, # sample with replacement (we need to duplicate observations)\n",
        "                          n_samples=4500, # match number in minority class\n",
        "                          random_state=27) # reproducible results\n"
      ],
      "execution_count": null,
      "outputs": []
    },
    {
      "cell_type": "code",
      "metadata": {
        "id": "zfzfv1hHboGf",
        "colab_type": "code",
        "colab": {},
        "outputId": "3eeac02e-de60-4a64-ffae-226b1f8ce7ea"
      },
      "source": [
        "best_of_both = pd.concat([not_spam_downsampled, spam_upsampled2, spam_upsampled0,spam_upsampled11 ])\n",
        "best_of_both['sentiment'].value_counts()"
      ],
      "execution_count": null,
      "outputs": [
        {
          "output_type": "execute_result",
          "data": {
            "text/plain": [
              "-1    4500\n",
              " 2    4500\n",
              " 1    4500\n",
              " 0    4500\n",
              "Name: sentiment, dtype: int64"
            ]
          },
          "metadata": {
            "tags": []
          },
          "execution_count": 54
        }
      ]
    },
    {
      "cell_type": "code",
      "metadata": {
        "id": "zt1PY2gjboGi",
        "colab_type": "code",
        "colab": {}
      },
      "source": [
        "X_resampled = best_of_both['message']"
      ],
      "execution_count": null,
      "outputs": []
    },
    {
      "cell_type": "code",
      "metadata": {
        "id": "8pxaKkisboGm",
        "colab_type": "code",
        "colab": {}
      },
      "source": [
        "y_resampled =  best_of_both['sentiment']"
      ],
      "execution_count": null,
      "outputs": []
    },
    {
      "cell_type": "code",
      "metadata": {
        "id": "0xuoqw7BboGp",
        "colab_type": "code",
        "colab": {},
        "outputId": "450f46b6-e918-49e4-e741-93ea621e2350"
      },
      "source": [
        "X_resampled"
      ],
      "execution_count": null,
      "outputs": [
        {
          "output_type": "execute_result",
          "data": {
            "text/plain": [
              "11729    funding from  will support s team as they addr...\n",
              "8308     gag orders sure he is definitely green and doe...\n",
              "7159     not ominous at all he also wants the names of ...\n",
              "5644     in case you forgot about that chinese hoax glo...\n",
              "6732     hrc proposes installing half a billion solar p...\n",
              "                               ...                        \n",
              "1556              finally admit it yes global warming is f\n",
              "11428    that would be a natural storm and of course po...\n",
              "5744     nobody personally sees any evidence of climate...\n",
              "5235     yep as long as they keep researching climate c...\n",
              "1129     climate change is just a normal part of this p...\n",
              "Name: message, Length: 18000, dtype: object"
            ]
          },
          "metadata": {
            "tags": []
          },
          "execution_count": 57
        }
      ]
    },
    {
      "cell_type": "code",
      "metadata": {
        "id": "Mz0chxOQboGv",
        "colab_type": "code",
        "colab": {}
      },
      "source": [
        "# Lematise posts\n",
        "lemmatizer = WordNetLemmatizer()\n",
        "best_of_both['lemma'] = [' '.join([lemmatizer.lemmatize(word) for word in text.split(' ')])for text in best_of_both['message']]\n",
        "test1['lemma'] = [' '.join([lemmatizer.lemmatize(word) for word in text.split(' ')])for text in test1['message']]"
      ],
      "execution_count": null,
      "outputs": []
    },
    {
      "cell_type": "code",
      "metadata": {
        "id": "lEIh_b6YboGz",
        "colab_type": "code",
        "colab": {},
        "outputId": "93276e88-ded3-4dd5-be5f-efc4e1a385af"
      },
      "source": [
        "best_of_both['sentiment'] = best_of_both.pop('sentiment')\n",
        "best_of_both.head()"
      ],
      "execution_count": null,
      "outputs": [
        {
          "output_type": "execute_result",
          "data": {
            "text/html": [
              "<div>\n",
              "<style scoped>\n",
              "    .dataframe tbody tr th:only-of-type {\n",
              "        vertical-align: middle;\n",
              "    }\n",
              "\n",
              "    .dataframe tbody tr th {\n",
              "        vertical-align: top;\n",
              "    }\n",
              "\n",
              "    .dataframe thead th {\n",
              "        text-align: right;\n",
              "    }\n",
              "</style>\n",
              "<table border=\"1\" class=\"dataframe\">\n",
              "  <thead>\n",
              "    <tr style=\"text-align: right;\">\n",
              "      <th></th>\n",
              "      <th>message</th>\n",
              "      <th>lemma</th>\n",
              "      <th>sentiment</th>\n",
              "    </tr>\n",
              "  </thead>\n",
              "  <tbody>\n",
              "    <tr>\n",
              "      <th>11729</th>\n",
              "      <td>funding from  will support s team as they addr...</td>\n",
              "      <td>funding from  will support s team a they addre...</td>\n",
              "      <td>1</td>\n",
              "    </tr>\n",
              "    <tr>\n",
              "      <th>8308</th>\n",
              "      <td>gag orders sure he is definitely green and doe...</td>\n",
              "      <td>gag order sure he is definitely green and doe ...</td>\n",
              "      <td>1</td>\n",
              "    </tr>\n",
              "    <tr>\n",
              "      <th>7159</th>\n",
              "      <td>not ominous at all he also wants the names of ...</td>\n",
              "      <td>not ominous at all he also want the name of an...</td>\n",
              "      <td>1</td>\n",
              "    </tr>\n",
              "    <tr>\n",
              "      <th>5644</th>\n",
              "      <td>in case you forgot about that chinese hoax glo...</td>\n",
              "      <td>in case you forgot about that chinese hoax glo...</td>\n",
              "      <td>1</td>\n",
              "    </tr>\n",
              "    <tr>\n",
              "      <th>6732</th>\n",
              "      <td>hrc proposes installing half a billion solar p...</td>\n",
              "      <td>hrc proposes installing half a billion solar p...</td>\n",
              "      <td>1</td>\n",
              "    </tr>\n",
              "  </tbody>\n",
              "</table>\n",
              "</div>"
            ],
            "text/plain": [
              "                                                 message  \\\n",
              "11729  funding from  will support s team as they addr...   \n",
              "8308   gag orders sure he is definitely green and doe...   \n",
              "7159   not ominous at all he also wants the names of ...   \n",
              "5644   in case you forgot about that chinese hoax glo...   \n",
              "6732   hrc proposes installing half a billion solar p...   \n",
              "\n",
              "                                                   lemma  sentiment  \n",
              "11729  funding from  will support s team a they addre...          1  \n",
              "8308   gag order sure he is definitely green and doe ...          1  \n",
              "7159   not ominous at all he also want the name of an...          1  \n",
              "5644   in case you forgot about that chinese hoax glo...          1  \n",
              "6732   hrc proposes installing half a billion solar p...          1  "
            ]
          },
          "metadata": {
            "tags": []
          },
          "execution_count": 59
        }
      ]
    },
    {
      "cell_type": "code",
      "metadata": {
        "id": "RbFTFQNRboG2",
        "colab_type": "code",
        "colab": {}
      },
      "source": [
        "test1['lemma_no_stop'] = [' '.join([remove_stop_words(word) for word in text.split(' ')])for text in test1['lemma']]"
      ],
      "execution_count": null,
      "outputs": []
    },
    {
      "cell_type": "code",
      "metadata": {
        "id": "MhTCHWrJboG5",
        "colab_type": "code",
        "colab": {}
      },
      "source": [
        "vect_b = TfidfVectorizer(lowercase=True, \n",
        "                            stop_words='english', \n",
        "                            #max_features=2500,\n",
        "                            min_df=4,\n",
        "                            max_df=0.5\n",
        "                           )\n"
      ],
      "execution_count": null,
      "outputs": []
    },
    {
      "cell_type": "code",
      "metadata": {
        "id": "KufV1_Q5boG-",
        "colab_type": "code",
        "colab": {}
      },
      "source": [
        "vect_b.fit(best_of_both['lemma'])\n",
        "X_b= vect_b.transform(best_of_both['lemma'])"
      ],
      "execution_count": null,
      "outputs": []
    },
    {
      "cell_type": "code",
      "metadata": {
        "id": "4PeTtcJYboHA",
        "colab_type": "code",
        "colab": {},
        "outputId": "5a9dcee0-db4d-4a33-8859-121c834f154a"
      },
      "source": [
        "X_b.shape"
      ],
      "execution_count": null,
      "outputs": [
        {
          "output_type": "execute_result",
          "data": {
            "text/plain": [
              "(18000, 4754)"
            ]
          },
          "metadata": {
            "tags": []
          },
          "execution_count": 63
        }
      ]
    },
    {
      "cell_type": "code",
      "metadata": {
        "id": "kHUOaMCRboHC",
        "colab_type": "code",
        "colab": {}
      },
      "source": [
        "y = best_of_both['sentiment']"
      ],
      "execution_count": null,
      "outputs": []
    },
    {
      "cell_type": "code",
      "metadata": {
        "id": "U6nyrDmmboHE",
        "colab_type": "code",
        "colab": {}
      },
      "source": [
        "X_train, X_test, y_train, y_test = train_test_split(X_b, \n",
        "                                                    y,\n",
        "                                                    test_size =0.2,\n",
        "                                                   random_state = 27)"
      ],
      "execution_count": null,
      "outputs": []
    },
    {
      "cell_type": "code",
      "metadata": {
        "id": "rttZZJd6boHH",
        "colab_type": "code",
        "colab": {}
      },
      "source": [
        "logreg = LogisticRegression(multi_class='ovr')\n",
        "logreg.fit(X_train,y_train)\n",
        "y_pred_train = logreg.predict(X_train)"
      ],
      "execution_count": null,
      "outputs": []
    },
    {
      "cell_type": "code",
      "metadata": {
        "id": "HMrzg2FjboHJ",
        "colab_type": "code",
        "colab": {},
        "outputId": "6f1981d4-d306-4f3e-b353-f05288dae6db"
      },
      "source": [
        "from sklearn.metrics import accuracy_score\n",
        "accuracy_score(y_train, y_pred_train)"
      ],
      "execution_count": null,
      "outputs": [
        {
          "output_type": "execute_result",
          "data": {
            "text/plain": [
              "0.8521527777777778"
            ]
          },
          "metadata": {
            "tags": []
          },
          "execution_count": 67
        }
      ]
    },
    {
      "cell_type": "code",
      "metadata": {
        "id": "2t13WD49boHL",
        "colab_type": "code",
        "colab": {}
      },
      "source": [
        "y_pred_test = logreg.predict(X_test)"
      ],
      "execution_count": null,
      "outputs": []
    },
    {
      "cell_type": "code",
      "metadata": {
        "id": "CE8Mj5jCboHN",
        "colab_type": "code",
        "colab": {},
        "outputId": "f1520ef2-aa1b-4b12-f27e-5cd22573f2bf"
      },
      "source": [
        "accuracy_score(y_test, y_pred_test)"
      ],
      "execution_count": null,
      "outputs": [
        {
          "output_type": "execute_result",
          "data": {
            "text/plain": [
              "0.7783333333333333"
            ]
          },
          "metadata": {
            "tags": []
          },
          "execution_count": 69
        }
      ]
    },
    {
      "cell_type": "code",
      "metadata": {
        "id": "DY3H0cXAboHS",
        "colab_type": "code",
        "colab": {},
        "outputId": "9258cb3b-c0c3-47c8-a40d-69dfc7b4abb4"
      },
      "source": [
        "# Classification report\n",
        "from sklearn.metrics import classification_report\n",
        "print(classification_report(y_test, y_pred_test))"
      ],
      "execution_count": null,
      "outputs": [
        {
          "output_type": "stream",
          "text": [
            "              precision    recall  f1-score   support\n",
            "\n",
            "          -1       0.83      0.88      0.85       876\n",
            "           0       0.78      0.76      0.77       934\n",
            "           1       0.74      0.62      0.68       899\n",
            "           2       0.76      0.86      0.80       891\n",
            "\n",
            "    accuracy                           0.78      3600\n",
            "   macro avg       0.78      0.78      0.78      3600\n",
            "weighted avg       0.78      0.78      0.78      3600\n",
            "\n"
          ],
          "name": "stdout"
        }
      ]
    },
    {
      "cell_type": "code",
      "metadata": {
        "id": "1uIRmAqSboHY",
        "colab_type": "code",
        "colab": {}
      },
      "source": [
        ""
      ],
      "execution_count": null,
      "outputs": []
    }
  ]
}